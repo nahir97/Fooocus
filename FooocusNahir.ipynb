{
  "cells": [
    {
      "cell_type": "markdown",
      "metadata": {
        "id": "view-in-github",
        "colab_type": "text"
      },
      "source": [
        "<a href=\"https://colab.research.google.com/github/nahir97/Fooocus/blob/main/FooocusNahir.ipynb\" target=\"_parent\"><img src=\"https://colab.research.google.com/assets/colab-badge.svg\" alt=\"Open In Colab\"/></a>"
      ]
    },
    {
      "cell_type": "code",
      "execution_count": null,
      "metadata": {
        "id": "VjYy0F2gZIPR",
        "collapsed": true
      },
      "outputs": [],
      "source": [
        "!pip install pygit2==1.15.1\n",
        "%cd /content\n",
        "!git clone https://github.com/nahir97/Fooocus.git\n",
        "%cd /content/Fooocus\n",
        "!sudo apt-get update && sudo apt-get install -y aria2\n",
        "\n",
        "# Existing downloads (keep previous commands)\n",
        "#Lustify\n",
        "!aria2c -c -x8 -s8 \"https://huggingface.co/Zveir/epiCRealism-XL/resolve/main/epicrealismXL_vxivEyecandyRealism.safetensors\" -d \"./models/checkpoints\" -o \"epicrealismXL_vxivEyecandyRealism.safetensors\"\n",
        "\n",
        "# IllusRealism\n",
        "!aria2c -c -x8 -s8 \"https://civitai.com/api/download/models/1116447?type=Model&format=SafeTensor&size=full&fp=bf16&token=6dde2d1ce0999da6917df83e10364218\" -d \"./models/checkpoints\" -o \"rillusmRealistic_v11.safetensors\"\n",
        "\n",
        "# PronMaster\n",
        "!aria2c -c -x8 -s8 \"https://civitai.com/api/download/models/1526663?type=Model&format=SafeTensor&size=pruned&fp=fp16&token=6dde2d1ce0999da6917df83e10364218\" -d \"./models/checkpoints\" -o \"refinerpron.safetensors\"\n",
        "\n",
        "# !aria2c -c -x8 -s8 \"https://huggingface.co/city96/t5-v1_1-xxl-encoder-gguf/resolve/main/t5-v1_1-xxl-encoder-Q4_K_S.gguf\" -d \"./models/clip\"\n",
        "# !aria2c -c -x8 -s8 \"https://huggingface.co/f5aiteam/CLIP/resolve/main/clip_l.safetensors\" -d \"./models/clip\"\n",
        "# !aria2c -c -x8 -s8 \"https://huggingface.co/f5aiteam/VAE/resolve/main/ae.safetensors\" -d \"./models/vae\"\n",
        "\n",
        "# Original LoRA\n",
        "# !aria2c -c -x8 -s8 \"https://huggingface.co/Zveir/MyLoras/resolve/main/laria.safetensors\" -d \"./models/loras\" -o \"FluxThouS40k.safetensors\"\n",
        "\n",
        "# New Additional LoRAs\n",
        "!aria2c -c -x8 -s8 \"https://huggingface.co/mashb1t/fav_models/resolve/main/fav/SDXL_FILM_PHOTOGRAPHY_STYLE_V1.safetensors\" -d \"./models/loras\" -o \"SDXL_FILM_PHOTOGRAPHY_STYLE_V1.safetensors\"\n",
        "!aria2c -c -x8 -s8 \"https://huggingface.co/Zveir/MyLoras/resolve/main/NaturalBreasts-10.safetensors\" -d \"./models/loras\" -o \"NaturalBreasts-10.safetensors\"\n",
        "!aria2c -c -x8 -s8 \"https://huggingface.co/Zveir/MyLoras/resolve/main/alina-10.safetensors\" -d \"./models/loras\" -o \"alina-10.safetensors\"\n",
        "!aria2c -c -x8 -s8 \"https://huggingface.co/Zveir/MyLoras/resolve/main/baerasoni-10.safetensors\" -d \"./models/loras\" -o \"baerasoni-10.safetensors\"\n",
        "!aria2c -c -x8 -s8 \"https://huggingface.co/Zveir/MyLoras/resolve/main/becker-10.safetensors\" -d \"./models/loras\" -o \"becker-10.safetensors\"\n",
        "!aria2c -c -x8 -s8 \"https://huggingface.co/Zveir/MyLoras/resolve/main/boyeon-10.safetensors\" -d \"./models/loras\" -o \"boyeon-10.safetensors\"\n",
        "!aria2c -c -x8 -s8 \"https://huggingface.co/Zveir/MyLoras/resolve/main/dreamkreme-10.safetensors\" -d \"./models/loras\" -o \"dreamkreme-10.safetensors\"\n",
        "!aria2c -c -x8 -s8 \"https://huggingface.co/Zveir/MyLoras/resolve/main/hitomi-10.safetensors\" -d \"./models/loras\" -o \"hitomi-10.safetensors\"\n",
        "!aria2c -c -x8 -s8 \"https://huggingface.co/Zveir/MyLoras/resolve/main/itskaslol-10.safetensors\" -d \"./models/loras\" -o \"itskaslol-10.safetensors\"\n",
        "!aria2c -c -x8 -s8 \"https://huggingface.co/Zveir/MyLoras/resolve/main/virtualtorii-10.safetensors\" -d \"./models/loras\" -o \"virtualtorii-10.safetensors\"\n",
        "!aria2c -c -x8 -s8 \"https://huggingface.co/Zveir/MyLoras/resolve/main/xxapplee-10.safetensors\" -d \"./models/loras\" -o \"xxapplee-10.safetensors\"\n",
        "!aria2c -c -x8 -s8 \"https://huggingface.co/Zveir/MyLoras/resolve/main/yuansayuki-10.safetensors\" -d \"./models/loras\" -o \"yuansayuki-10.safetensors\"\n",
        "!python entry_with_update.py --share --always-high-vram"
      ]
    }
  ],
  "metadata": {
    "accelerator": "GPU",
    "colab": {
      "gpuType": "T4",
      "provenance": [],
      "include_colab_link": true
    },
    "kernelspec": {
      "display_name": "Python 3",
      "name": "python3"
    },
    "language_info": {
      "name": "python"
    }
  },
  "nbformat": 4,
  "nbformat_minor": 0
}