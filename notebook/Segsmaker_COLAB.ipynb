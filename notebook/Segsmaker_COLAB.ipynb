{
  "nbformat": 4,
  "nbformat_minor": 0,
  "metadata": {
    "colab": {
      "provenance": [],
      "gpuType": "T4"
    },
    "kernelspec": {
      "name": "python3",
      "display_name": "Python 3"
    },
    "language_info": {
      "name": "python"
    },
    "accelerator": "GPU",
    "widgets": {
      "application/vnd.jupyter.widget-state+json": {
        "1ca6f44308c840c394df421917769454": {
          "model_module": "@jupyter-widgets/output",
          "model_name": "OutputModel",
          "model_module_version": "1.0.0",
          "state": {
            "_dom_classes": [],
            "_model_module": "@jupyter-widgets/output",
            "_model_module_version": "1.0.0",
            "_model_name": "OutputModel",
            "_view_count": null,
            "_view_module": "@jupyter-widgets/output",
            "_view_module_version": "1.0.0",
            "_view_name": "OutputView",
            "layout": "IPY_MODEL_2dabc5fbbf074a8fad40b3eac00bd22f",
            "msg_id": "",
            "outputs": [
              {
                "output_type": "display_data",
                "data": {
                  "text/plain": "<IPython.core.display.HTML object>",
                  "text/html": "<span style='color:red;'><b>【</span> <span style='color:d;'>Installing ComfyUI</span> <span style='color:red;'>】</span> <span></b></span>"
                },
                "metadata": {}
              },
              {
                "output_type": "stream",
                "name": "stdout",
                "text": [
                  "  ComfyUI ▶ https://github.com/comfyanonymous/ComfyUI\n"
                ]
              },
              {
                "output_type": "stream",
                "name": "stdout",
                "text": [
                  "\n",
                  "  pull : comfyui \n",
                  "  from : https://github.com/gutris1/segsmaker \n",
                  "  into : /content/ComfyUI\n",
                  "\n"
                ]
              },
              {
                "output_type": "stream",
                "name": "stdout",
                "text": [
                  "  541cee|\u001b[38;5;35mOK\u001b[0m  |   2.2MiB/s|\u001b[38;5;208m/\u001b[0mcontent\u001b[38;5;208m/\u001b[0mComfyUI\u001b[38;5;208m/\u001b[0masd\u001b[38;5;208m/\u001b[0mcontrolnet.py\n"
                ]
              },
              {
                "output_type": "stream",
                "name": "stdout",
                "text": [
                  "  53172e|\u001b[38;5;35mOK\u001b[0m  |   642KiB/s|\u001b[38;5;208m/\u001b[0mcontent\u001b[38;5;208m/\u001b[0mComfyUI\u001b[38;5;208m/\u001b[0msegsmaker.py\n"
                ]
              },
              {
                "output_type": "stream",
                "name": "stdout",
                "text": [
                  "  33d554|\u001b[38;5;35mOK\u001b[0m  |   158MiB/s|\u001b[38;5;208m/\u001b[0mcontent\u001b[38;5;208m/\u001b[0mComfyUI\u001b[38;5;208m/\u001b[0mmodels\u001b[38;5;208m/\u001b[0mupscale_models\u001b[38;5;208m/\u001b[0m4x-UltraSharp.pth\n"
                ]
              },
              {
                "output_type": "stream",
                "name": "stdout",
                "text": [
                  "  ef0b00|\u001b[38;5;35mOK\u001b[0m  |   163MiB/s|\u001b[38;5;208m/\u001b[0mcontent\u001b[38;5;208m/\u001b[0mComfyUI\u001b[38;5;208m/\u001b[0mmodels\u001b[38;5;208m/\u001b[0mupscale_models\u001b[38;5;208m/\u001b[0m4x-AnimeSharp.pth\n"
                ]
              },
              {
                "output_type": "stream",
                "name": "stdout",
                "text": [
                  "  fbae0c|\u001b[38;5;35mOK\u001b[0m  |   125MiB/s|\u001b[38;5;208m/\u001b[0mcontent\u001b[38;5;208m/\u001b[0mComfyUI\u001b[38;5;208m/\u001b[0mmodels\u001b[38;5;208m/\u001b[0mupscale_models\u001b[38;5;208m/\u001b[0m4x_NMKD-Superscale-SP_178000_G.pth\n"
                ]
              },
              {
                "output_type": "stream",
                "name": "stdout",
                "text": [
                  "  641f47|\u001b[38;5;35mOK\u001b[0m  |   152MiB/s|\u001b[38;5;208m/\u001b[0mcontent\u001b[38;5;208m/\u001b[0mComfyUI\u001b[38;5;208m/\u001b[0mmodels\u001b[38;5;208m/\u001b[0mupscale_models\u001b[38;5;208m/\u001b[0m8x_NMKD-Superscale_150000_G.pth\n"
                ]
              },
              {
                "output_type": "stream",
                "name": "stdout",
                "text": [
                  "  14ae1e|\u001b[38;5;35mOK\u001b[0m  |   183MiB/s|\u001b[38;5;208m/\u001b[0mcontent\u001b[38;5;208m/\u001b[0mComfyUI\u001b[38;5;208m/\u001b[0mmodels\u001b[38;5;208m/\u001b[0mupscale_models\u001b[38;5;208m/\u001b[0m4x_RealisticRescaler_100000_G.pth\n"
                ]
              },
              {
                "output_type": "stream",
                "name": "stdout",
                "text": [
                  "  9c7d99|\u001b[38;5;35mOK\u001b[0m  |   159MiB/s|\u001b[38;5;208m/\u001b[0mcontent\u001b[38;5;208m/\u001b[0mComfyUI\u001b[38;5;208m/\u001b[0mmodels\u001b[38;5;208m/\u001b[0mupscale_models\u001b[38;5;208m/\u001b[0m8x_RealESRGAN.pth\n"
                ]
              },
              {
                "output_type": "stream",
                "name": "stdout",
                "text": [
                  "  59bba6|\u001b[38;5;35mOK\u001b[0m  |   163MiB/s|\u001b[38;5;208m/\u001b[0mcontent\u001b[38;5;208m/\u001b[0mComfyUI\u001b[38;5;208m/\u001b[0mmodels\u001b[38;5;208m/\u001b[0mupscale_models\u001b[38;5;208m/\u001b[0m4x_foolhardy_Remacri.pth\n"
                ]
              },
              {
                "output_type": "stream",
                "name": "stdout",
                "text": [
                  "\r                                                                                                                                                                                                                                                                                                            \r \u001b[35m【\u001b[0m\u001b[36m#\u001b[0m\u001b[38;5;35maf5ddf\u001b[0m 62\u001b[38;5;135mMiB\u001b[0m\u001b[35m/\u001b[0m63\u001b[38;5;135mMiB\u001b[0m\u001b[35m(\u001b[0m98%\u001b[35m)\u001b[0m \u001b[36mCN\u001b[0m:\u001b[38;5;208m1\u001b[0m \u001b[36mDL\u001b[0m:45\u001b[38;5;135mMiB\u001b[0m\u001b[35m】\u001b[0m"
                ]
              },
              {
                "output_type": "stream",
                "name": "stdout",
                "text": [
                  "\n",
                  "  af5ddf|\u001b[38;5;35mOK\u001b[0m  |    44MiB/s|\u001b[38;5;208m/\u001b[0mcontent\u001b[38;5;208m/\u001b[0mComfyUI\u001b[38;5;208m/\u001b[0mmodels\u001b[38;5;208m/\u001b[0mupscale_models\u001b[38;5;208m/\u001b[0m4x_NMKD-YandereNeoXL_200k.pth\n"
                ]
              },
              {
                "output_type": "stream",
                "name": "stdout",
                "text": [
                  "  4a40f9|\u001b[38;5;35mOK\u001b[0m  |    86MiB/s|\u001b[38;5;208m/\u001b[0mcontent\u001b[38;5;208m/\u001b[0mComfyUI\u001b[38;5;208m/\u001b[0mmodels\u001b[38;5;208m/\u001b[0mupscale_models\u001b[38;5;208m/\u001b[0m4x_NMKD-UltraYandere_300k.pth\n"
                ]
              },
              {
                "output_type": "stream",
                "name": "stdout",
                "text": [
                  "  f10833|\u001b[38;5;35mOK\u001b[0m  |   7.1MiB/s|\u001b[38;5;208m/\u001b[0mcontent\u001b[38;5;208m/\u001b[0mComfyUI\u001b[38;5;208m/\u001b[0membeddingsXL.zip\n"
                ]
              },
              {
                "output_type": "stream",
                "name": "stdout",
                "text": [
                  "\r                                                                                                                                                                                                                                                                                                            \r \u001b[35m【\u001b[0m\u001b[36m#\u001b[0m\u001b[38;5;35mc58997\u001b[0m 194\u001b[38;5;135mMiB\u001b[0m\u001b[35m/\u001b[0m319\u001b[38;5;135mMiB\u001b[0m\u001b[35m(\u001b[0m60%\u001b[35m)\u001b[0m \u001b[36mCN\u001b[0m:\u001b[38;5;208m16\u001b[0m \u001b[36mDL\u001b[0m:235\u001b[38;5;135mMiB\u001b[0m\u001b[35m】\u001b[0m"
                ]
              },
              {
                "output_type": "stream",
                "name": "stdout",
                "text": [
                  "\n",
                  "  c58997|\u001b[38;5;35mOK\u001b[0m  |   247MiB/s|\u001b[38;5;208m/\u001b[0mcontent\u001b[38;5;208m/\u001b[0mComfyUI\u001b[38;5;208m/\u001b[0mmodels\u001b[38;5;208m/\u001b[0mvae\u001b[38;5;208m/\u001b[0msdxl_vae.safetensors\n"
                ]
              },
              {
                "output_type": "display_data",
                "data": {
                  "text/plain": "<IPython.core.display.HTML object>",
                  "text/html": "<span style='color:red;'><br><b>【</span> <span style='color:d;'>Installing Custom Nodes</span> <span style='color:red;'>】</span> <span></b></span>"
                },
                "metadata": {}
              },
              {
                "output_type": "stream",
                "name": "stdout",
                "text": [
                  "  ComfyUI_UltimateSDUpscale ▶ https://github.com/ssitu/ComfyUI_UltimateSDUpscale\n"
                ]
              },
              {
                "output_type": "stream",
                "name": "stdout",
                "text": [
                  "  ComfyUI_UltimateSDUpscale/repositories/ultimate_sd_upscale ▶ https://github.com/ssitu/ComfyUI_UltimateSDUpscale\n"
                ]
              },
              {
                "output_type": "stream",
                "name": "stdout",
                "text": [
                  "  ComfyUI-Manager ▶ https://github.com/ltdrdata/ComfyUI-Manager\n"
                ]
              },
              {
                "output_type": "stream",
                "name": "stdout",
                "text": [
                  "  ComfyUI-Custom-Scripts ▶ https://github.com/pythongosssss/ComfyUI-Custom-Scripts\n"
                ]
              },
              {
                "output_type": "stream",
                "name": "stdout",
                "text": [
                  "  SD-Latent-Upscaler ▶ https://github.com/city96/SD-Latent-Upscaler\n"
                ]
              },
              {
                "output_type": "stream",
                "name": "stdout",
                "text": [
                  "  efficiency-nodes-comfyui ▶ https://github.com/jags111/efficiency-nodes-comfyui\n"
                ]
              },
              {
                "output_type": "stream",
                "name": "stdout",
                "text": [
                  "  ComfyUI_ADV_CLIP_emb ▶ https://github.com/BlenderNeko/ComfyUI_ADV_CLIP_emb\n"
                ]
              },
              {
                "output_type": "stream",
                "name": "stdout",
                "text": [
                  "  ComfyUI_NestedNodeBuilder ▶ https://github.com/ssitu/ComfyUI_NestedNodeBuilder\n"
                ]
              },
              {
                "output_type": "stream",
                "name": "stdout",
                "text": [
                  "  ComfyUI-Advanced-ControlNet ▶ https://github.com/Kosinkadink/ComfyUI-Advanced-ControlNet\n"
                ]
              },
              {
                "output_type": "stream",
                "name": "stdout",
                "text": [
                  "  comfyui_controlnet_aux ▶ https://github.com/Fannovel16/comfyui_controlnet_aux\n"
                ]
              },
              {
                "output_type": "stream",
                "name": "stdout",
                "text": [
                  "  ComfyUI-Image-Selector ▶ https://github.com/SLAPaper/ComfyUI-Image-Selector\n"
                ]
              },
              {
                "output_type": "stream",
                "name": "stdout",
                "text": [
                  "  Derfuu_ComfyUI_ModdedNodes ▶ https://github.com/Derfuu/Derfuu_ComfyUI_ModdedNodes\n"
                ]
              },
              {
                "output_type": "stream",
                "name": "stdout",
                "text": [
                  "  ComfyUI_FizzNodes ▶ https://github.com/FizzleDorf/ComfyUI_FizzNodes\n"
                ]
              },
              {
                "output_type": "stream",
                "name": "stdout",
                "text": [
                  "  was-node-suite-comfyui ▶ https://github.com/WASasquatch/was-node-suite-comfyui\n"
                ]
              },
              {
                "output_type": "stream",
                "name": "stdout",
                "text": [
                  "\n"
                ]
              },
              {
                "output_type": "stream",
                "name": "stdout",
                "text": [
                  "\r                                                                                                                                                                                                                                                                                                            \r \u001b[35m【\u001b[0m\u001b[36m#\u001b[0m\u001b[38;5;35m198478\u001b[0m 22\u001b[38;5;135mMiB\u001b[0m\u001b[35m/\u001b[0m359\u001b[38;5;135mMiB\u001b[0m\u001b[35m(\u001b[0m6%\u001b[35m)\u001b[0m \u001b[36mCN\u001b[0m:\u001b[38;5;208m16\u001b[0m \u001b[36mDL\u001b[0m:148\u001b[38;5;135mMiB\u001b[0m \u001b[36mETA\u001b[0m:\u001b[33m2s\u001b[0m\u001b[35m】\u001b[0m"
                ]
              },
              {
                "output_type": "stream",
                "name": "stdout",
                "text": [
                  "\r                                                                                                                                                                                                                                                                                                            \r \u001b[35m【\u001b[0m\u001b[36m#\u001b[0m\u001b[38;5;35m198478\u001b[0m 301\u001b[38;5;135mMiB\u001b[0m\u001b[35m/\u001b[0m359\u001b[38;5;135mMiB\u001b[0m\u001b[35m(\u001b[0m83%\u001b[35m)\u001b[0m \u001b[36mCN\u001b[0m:\u001b[38;5;208m16\u001b[0m \u001b[36mDL\u001b[0m:264\u001b[38;5;135mMiB\u001b[0m\u001b[35m】\u001b[0m"
                ]
              },
              {
                "output_type": "stream",
                "name": "stdout",
                "text": [
                  "\n",
                  "  198478|\u001b[38;5;35mOK\u001b[0m  |   180MiB/s|\u001b[38;5;208m/\u001b[0mcontent\u001b[38;5;208m/\u001b[0mComfyUI\u001b[38;5;208m/\u001b[0mmodels\u001b[38;5;208m/\u001b[0mfacerestore_models\u001b[38;5;208m/\u001b[0mcodeformer.pth\n"
                ]
              },
              {
                "output_type": "stream",
                "name": "stdout",
                "text": [
                  "\r                                                                                                                                                                                                                                                                                                            \r \u001b[35m【\u001b[0m\u001b[36m#\u001b[0m\u001b[38;5;35m288a3e\u001b[0m 87\u001b[38;5;135mMiB\u001b[0m\u001b[35m/\u001b[0m332\u001b[38;5;135mMiB\u001b[0m\u001b[35m(\u001b[0m26%\u001b[35m)\u001b[0m \u001b[36mCN\u001b[0m:\u001b[38;5;208m16\u001b[0m \u001b[36mDL\u001b[0m:192\u001b[38;5;135mMiB\u001b[0m \u001b[36mETA\u001b[0m:\u001b[33m1s\u001b[0m\u001b[35m】\u001b[0m"
                ]
              },
              {
                "output_type": "stream",
                "name": "stdout",
                "text": [
                  "\r                                                                                                                                                                                                                                                                                                            \r \u001b[35m【\u001b[0m\u001b[36m#\u001b[0m\u001b[38;5;35m288a3e\u001b[0m 330\u001b[38;5;135mMiB\u001b[0m\u001b[35m/\u001b[0m332\u001b[38;5;135mMiB\u001b[0m\u001b[35m(\u001b[0m99%\u001b[35m)\u001b[0m \u001b[36mCN\u001b[0m:\u001b[38;5;208m10\u001b[0m \u001b[36mDL\u001b[0m:225\u001b[38;5;135mMiB\u001b[0m\u001b[35m】\u001b[0m"
                ]
              },
              {
                "output_type": "stream",
                "name": "stdout",
                "text": [
                  "\n",
                  "  288a3e|\u001b[38;5;35mOK\u001b[0m  |   195MiB/s|\u001b[38;5;208m/\u001b[0mcontent\u001b[38;5;208m/\u001b[0mComfyUI\u001b[38;5;208m/\u001b[0mmodels\u001b[38;5;208m/\u001b[0mfacerestore_models\u001b[38;5;208m/\u001b[0mGFPGANv1.4.pth\n"
                ]
              }
            ]
          }
        },
        "2dabc5fbbf074a8fad40b3eac00bd22f": {
          "model_module": "@jupyter-widgets/base",
          "model_name": "LayoutModel",
          "model_module_version": "1.2.0",
          "state": {
            "_model_module": "@jupyter-widgets/base",
            "_model_module_version": "1.2.0",
            "_model_name": "LayoutModel",
            "_view_count": null,
            "_view_module": "@jupyter-widgets/base",
            "_view_module_version": "1.2.0",
            "_view_name": "LayoutView",
            "align_content": null,
            "align_items": null,
            "align_self": null,
            "border": null,
            "bottom": null,
            "display": null,
            "flex": null,
            "flex_flow": null,
            "grid_area": null,
            "grid_auto_columns": null,
            "grid_auto_flow": null,
            "grid_auto_rows": null,
            "grid_column": null,
            "grid_gap": null,
            "grid_row": null,
            "grid_template_areas": null,
            "grid_template_columns": null,
            "grid_template_rows": null,
            "height": null,
            "justify_content": null,
            "justify_items": null,
            "left": null,
            "margin": null,
            "max_height": null,
            "max_width": null,
            "min_height": null,
            "min_width": null,
            "object_fit": null,
            "object_position": null,
            "order": null,
            "overflow": null,
            "overflow_x": null,
            "overflow_y": null,
            "padding": null,
            "right": null,
            "top": null,
            "visibility": null,
            "width": null
          }
        },
        "2b5db6a93d9b47d99900adf9db83f965": {
          "model_module": "@jupyter-widgets/output",
          "model_name": "OutputModel",
          "model_module_version": "1.0.0",
          "state": {
            "_dom_classes": [],
            "_model_module": "@jupyter-widgets/output",
            "_model_module_version": "1.0.0",
            "_model_name": "OutputModel",
            "_view_count": null,
            "_view_module": "@jupyter-widgets/output",
            "_view_module_version": "1.0.0",
            "_view_name": "OutputView",
            "layout": "IPY_MODEL_66df96d54fbc4194b44d94f84a114020",
            "msg_id": "",
            "outputs": [
              {
                "output_type": "display_data",
                "data": {
                  "text/plain": "<IPython.core.display.HTML object>",
                  "text/html": "<span style='color:red;'><br><b>【</span> <span style='color:d;'>Done</span> <span style='color:red;'>】</span> <span></b></span>"
                },
                "metadata": {}
              }
            ]
          }
        },
        "66df96d54fbc4194b44d94f84a114020": {
          "model_module": "@jupyter-widgets/base",
          "model_name": "LayoutModel",
          "model_module_version": "1.2.0",
          "state": {
            "_model_module": "@jupyter-widgets/base",
            "_model_module_version": "1.2.0",
            "_model_name": "LayoutModel",
            "_view_count": null,
            "_view_module": "@jupyter-widgets/base",
            "_view_module_version": "1.2.0",
            "_view_name": "LayoutView",
            "align_content": null,
            "align_items": null,
            "align_self": null,
            "border": null,
            "bottom": null,
            "display": null,
            "flex": null,
            "flex_flow": null,
            "grid_area": null,
            "grid_auto_columns": null,
            "grid_auto_flow": null,
            "grid_auto_rows": null,
            "grid_column": null,
            "grid_gap": null,
            "grid_row": null,
            "grid_template_areas": null,
            "grid_template_columns": null,
            "grid_template_rows": null,
            "height": null,
            "justify_content": null,
            "justify_items": null,
            "left": null,
            "margin": null,
            "max_height": null,
            "max_width": null,
            "min_height": null,
            "min_width": null,
            "object_fit": null,
            "object_position": null,
            "order": null,
            "overflow": null,
            "overflow_x": null,
            "overflow_y": null,
            "padding": null,
            "right": null,
            "top": null,
            "visibility": null,
            "width": null
          }
        }
      }
    }
  },
  "cells": [
    {
      "cell_type": "markdown",
      "source": [
        "<a href=\"https://github.com/gutris1/segsmaker\">\n",
        "  <img alt=\"GitHub repo\" src=\"https://img.shields.io/badge/GitHub-6e5494?style=for-the-badge&logo=github&logoColor=white\"/>\n",
        "</a>\n",
        "\n",
        "**webui list** = A1111, Forge, ComfyUI, ReForge, SwarmUI<br>\n",
        "**sd list** = 1.5 or XL<br>\n",
        "**civitai_key** = get your civitai api key from [here](https://civitai.com/user/account)<br>\n",
        "**hf_read_token** = for downloading models from your huggingface private repo (**optional**)"
      ],
      "metadata": {
        "id": "COlOWoTOMKSP"
      }
    },
    {
      "cell_type": "code",
      "execution_count": 2,
      "metadata": {
        "id": "tQqllRM-MCnT",
        "outputId": "6aa724dc-ab29-42de-c05f-d123154afcba",
        "colab": {
          "base_uri": "https://localhost:8080/",
          "height": 902,
          "referenced_widgets": [
            "1ca6f44308c840c394df421917769454",
            "2dabc5fbbf074a8fad40b3eac00bd22f",
            "2b5db6a93d9b47d99900adf9db83f965",
            "66df96d54fbc4194b44d94f84a114020"
          ]
        }
      },
      "outputs": [
        {
          "output_type": "display_data",
          "data": {
            "text/plain": [
              "Output()"
            ],
            "application/vnd.jupyter.widget-view+json": {
              "version_major": 2,
              "version_minor": 0,
              "model_id": "1ca6f44308c840c394df421917769454"
            }
          },
          "metadata": {}
        },
        {
          "output_type": "display_data",
          "data": {
            "text/plain": [
              "Output()"
            ],
            "application/vnd.jupyter.widget-view+json": {
              "version_major": 2,
              "version_minor": 0,
              "model_id": "2b5db6a93d9b47d99900adf9db83f965"
            }
          },
          "metadata": {}
        }
      ],
      "source": [
        "# @title WebUI Installer {\"display-mode\":\"form\"}\n",
        "\n",
        "UI = 'ComfyUI' # @param [\"A1111\", \"Forge\", \"ComfyUI\", \"ReForge\", \"SwarmUI\"]\n",
        "SD = 'XL' # @param [\"1.5\", \"XL\"]\n",
        "Civitai___Key = '6dde2d1ce0999da6917df83e10364218' # @param {type:\"string\", placeholder:\"your Civitai API key\"}\n",
        "HF_Read_Token = '' # @param {type:\"string\", placeholder:\"your Huggingface READ token (optional)\"}\n",
        "Save_Outputs_in_Google_Drive = 'No' # @param [\"Yes\", \"No\"]\n",
        "BGM = '' # @param {type:\"string\", placeholder:\"youtube video id, default to dQw4w9WgXcQ\"}\n",
        "\n",
        "!curl -sLo /content/setup.py https://github.com/gutris1/segsmaker/raw/main/script/KC/setup.py\n",
        "%run /content/setup.py --webui=\"$UI\" --sd=\"$SD\" --civitai_key=\"$Civitai___Key\" --hf_read_token=\"$HF_Read_Token\" --save_outputs_in_drive=\"$Save_Outputs_in_Google_Drive\" --bgm=\"$BGM\""
      ]
    },
    {
      "cell_type": "code",
      "source": [
        "''' These are placeholders for commands with empty inputs. '''\n",
        "''' Replace them with actual values or skip/delete this cell. '''\n",
        "\n",
        "\n",
        "''' SD Extensions / ComfyUI Custom Nodes '''\n",
        "%cd /content/ComfyUI/custom_nodes\n",
        "!git clone https://github.com/calcuis/gguf.git\n",
        "!git clone https://github.com/chengzeyi/Comfy-WaveSpeed.git\n",
        "!git clone https://github.com/city96/ComfyUI-GGUF.git\n",
        "!git clone https://github.com/Extraltodeus/ComfyUI-AutomaticCFG.git\n",
        "!git clone https://github.com/rgthree/rgthree-comfy.git\n",
        "\n",
        "''' VAE '''\n",
        "%cd -q $VAE\n",
        "%download\n",
        "\n",
        "''' Embeddings '''\n",
        "%cd -q $Embeddings\n",
        "%download\n",
        "\n",
        "''' Upscalers '''\n",
        "%cd -q $Upscalers\n",
        "%download\n",
        "\n",
        "''' FLUX Unet '''\n",
        "%cd -q $UNET\n",
        "%download\n",
        "\n",
        "''' FLUX Clip '''\n",
        "%cd -q $CLIP\n",
        "%download"
      ],
      "metadata": {
        "id": "9TeZZ9WrOsxS",
        "outputId": "542e0004-93af-46ae-c51c-c97847189cdb",
        "colab": {
          "base_uri": "https://localhost:8080/"
        }
      },
      "execution_count": 7,
      "outputs": [
        {
          "output_type": "stream",
          "name": "stdout",
          "text": [
            "/content/ComfyUI/custom_nodes\n",
            "Cloning into 'gguf'...\n",
            "remote: Enumerating objects: 1455, done.\u001b[K\n",
            "remote: Counting objects: 100% (227/227), done.\u001b[K\n",
            "remote: Compressing objects: 100% (75/75), done.\u001b[K\n",
            "remote: Total 1455 (delta 207), reused 152 (delta 152), pack-reused 1228 (from 3)\u001b[K\n",
            "Receiving objects: 100% (1455/1455), 604.24 KiB | 1.88 MiB/s, done.\n",
            "Resolving deltas: 100% (894/894), done.\n",
            "Cloning into 'Comfy-WaveSpeed'...\n",
            "remote: Enumerating objects: 333, done.\u001b[K\n",
            "remote: Counting objects: 100% (110/110), done.\u001b[K\n",
            "remote: Compressing objects: 100% (16/16), done.\u001b[K\n",
            "remote: Total 333 (delta 103), reused 95 (delta 94), pack-reused 223 (from 1)\u001b[K\n",
            "Receiving objects: 100% (333/333), 5.39 MiB | 9.09 MiB/s, done.\n",
            "Resolving deltas: 100% (218/218), done.\n",
            "Cloning into 'ComfyUI-GGUF'...\n",
            "remote: Enumerating objects: 578, done.\u001b[K\n",
            "remote: Counting objects: 100% (290/290), done.\u001b[K\n",
            "remote: Compressing objects: 100% (132/132), done.\u001b[K\n",
            "remote: Total 578 (delta 251), reused 174 (delta 158), pack-reused 288 (from 1)\u001b[K\n",
            "Receiving objects: 100% (578/578), 162.16 KiB | 851.00 KiB/s, done.\n",
            "Resolving deltas: 100% (371/371), done.\n",
            "Cloning into 'ComfyUI-AutomaticCFG'...\n",
            "remote: Enumerating objects: 1151, done.\u001b[K\n",
            "remote: Counting objects: 100% (447/447), done.\u001b[K\n",
            "remote: Compressing objects: 100% (260/260), done.\u001b[K\n",
            "remote: Total 1151 (delta 327), reused 283 (delta 185), pack-reused 704 (from 1)\u001b[K\n",
            "Receiving objects: 100% (1151/1151), 49.32 MiB | 26.57 MiB/s, done.\n",
            "Resolving deltas: 100% (671/671), done.\n",
            "Cloning into 'rgthree-comfy'...\n",
            "remote: Enumerating objects: 3786, done.\u001b[K\n",
            "remote: Counting objects: 100% (925/925), done.\u001b[K\n",
            "remote: Compressing objects: 100% (319/319), done.\u001b[K\n",
            "remote: Total 3786 (delta 702), reused 666 (delta 605), pack-reused 2861 (from 3)\u001b[K\n",
            "Receiving objects: 100% (3786/3786), 4.58 MiB | 9.24 MiB/s, done.\n",
            "Resolving deltas: 100% (2684/2684), done.\n",
            "  missing URL, downloading nothing\n",
            "  missing URL, downloading nothing\n",
            "  missing URL, downloading nothing\n",
            "  missing URL, downloading nothing\n",
            "  missing URL, downloading nothing\n"
          ]
        }
      ]
    },
    {
      "cell_type": "code",
      "source": [
        "''' Checkpoint '''\n",
        "%cd /content/ComfyUI\n",
        "!sudo apt-get update && sudo apt-get install -y aria2\n",
        "\n",
        "# Existing downloads (keep previous commands)\n",
        "#Lustify\n",
        "!aria2c -c -x8 -s8 \"https://civitai.com/api/download/models/1629718?type=Model&format=SafeTensor&size=pruned&fp=fp16&token=6dde2d1ce0999da6917df83e10364218\" -d \"./models/checkpoints\" -o \"lustify.safetensors\"\n",
        "\n",
        "# IllusRealism\n",
        "!aria2c -c -x8 -s8 \"https://civitai.com/api/download/models/1517097?type=Model&format=SafeTensor&size=full&fp=fp16&token=6dde2d1ce0999da6917df83e10364218\" -d \"./models/checkpoints\" -o \"rillusmRealistic_v11.safetensors\"\n",
        "\n",
        "# PronMaster\n",
        "!aria2c -c -x8 -s8 \"https://civitai.com/api/download/models/1585993?type=Model&format=SafeTensor&size=pruned&fp=fp16&token=6dde2d1ce0999da6917df83e10364218\" -d \"./models/checkpoints\" -o \"refinerpron.safetensors\"\n",
        "\n",
        "# FLUX\n",
        "\n",
        "!aria2c -c -x -s8 \"https://civitai.com/api/download/models/1389019?type=Model&format=GGUF&size=pruned&fp=nf4&token=6dde2d1ce0999da6917df83e10364218\" -d \"./models/unet\" -o \"jibmixflux.gguf\"\n",
        "!aria2c -c -x -s8 \"https://huggingface.co/f5aiteam/CLIP/resolve/main/clip_l.safetensors\" -d \"./models/clip\" -o \"clip_l.safetensors\"\n",
        "!aria2c -c -x -s8 \"https://huggingface.co/city96/t5-v1_1-xxl-encoder-gguf/resolve/main/t5-v1_1-xxl-encoder-Q4_K_S.gguf\" -d \"./models/clip\" -o \"t5-v1_1-xxl-encoder-Q4_K_S.gguf\""
      ],
      "metadata": {
        "id": "CuR9tiSnPRBM"
      },
      "execution_count": null,
      "outputs": []
    },
    {
      "cell_type": "code",
      "source": [
        "''' Controlnet '''\n",
        "%run $Controlnet_Widget"
      ],
      "metadata": {
        "id": "wO4OTCOWALEc"
      },
      "execution_count": null,
      "outputs": []
    },
    {
      "cell_type": "markdown",
      "source": [
        "## Launcher\n",
        "args list :\n",
        "-  **A1111** = `--xformers`\n",
        "- **Forge** = `--disable-xformers --opt-sdp-attention --cuda-stream --pin-shared-memory`\n",
        "- **ComfyUI** = `--dont-print-server --preview-method auto --use-pytorch-cross-attention`\n",
        "- **ReForge** = `--xformers --cuda-stream --pin-shared-memory`\n",
        "- **SwarmUI** = `--launch_mode none`\n",
        "<br><br>\n",
        "\n",
        "For ComfyUI, add `--skip-comfyui-check` to skip checking custom node dependencies\n",
        "\n",
        "Add **--N=ngrok_token** to start NGROK tunnel<br>\n",
        "Add **--Z=zrok_token** to start ZROK tunnel"
      ],
      "metadata": {
        "id": "BB8pCZnrQnR9"
      }
    },
    {
      "cell_type": "code",
      "source": [
        "%cd -q $WebUI\n",
        "%run segsmaker.py --dont-print-server --preview-method auto --use-pytorch-cross-attention"
      ],
      "metadata": {
        "id": "ps7AEUdGX2iE",
        "outputId": "4c8d2972-f614-43dd-fe7f-d3a4ff888219",
        "colab": {
          "base_uri": "https://localhost:8080/"
        }
      },
      "execution_count": null,
      "outputs": [
        {
          "output_type": "stream",
          "name": "stdout",
          "text": [
            "[START] Security scan\n",
            "[DONE] Security scan\n",
            "## ComfyUI-Manager: installing dependencies done.\n",
            "** ComfyUI startup time: 2025-04-21 15:37:31.064\n",
            "** Platform: Linux\n",
            "** Python version: 3.10.15 (main, Oct 16 2024, 04:37:23) [Clang 18.1.8 ]\n",
            "** Python executable: /GUTRIS1/bin/python3\n",
            "** ComfyUI Path: /content/ComfyUI\n",
            "** ComfyUI Base Folder Path: /content/ComfyUI\n",
            "** User directory: /content/ComfyUI/user\n",
            "** ComfyUI-Manager config path: /content/ComfyUI/user/default/ComfyUI-Manager/config.ini\n",
            "** Log path: /content/ComfyUI/user/comfyui.log\n",
            "\n",
            "Prestartup times for custom nodes:\n",
            "   0.0 seconds: /content/ComfyUI/custom_nodes/rgthree-comfy\n",
            "   2.9 seconds: /content/ComfyUI/custom_nodes/ComfyUI-Manager\n",
            "\n",
            "Checkpoint files will always be loaded safely.\n",
            "Total VRAM 15095 MB, total RAM 12978 MB\n",
            "pytorch version: 2.5.1+cu121\n",
            "xformers version: 0.0.29.post1\n",
            "Set vram state to: NORMAL_VRAM\n",
            "Device: cuda:0 Tesla T4 : cudaMallocAsync\n",
            "Using pytorch attention\n",
            "Python version: 3.10.15 (main, Oct 16 2024, 04:37:23) [Clang 18.1.8 ]\n",
            "ComfyUI version: 0.3.29\n",
            "________________________________________________________________________\n",
            "WARNING WARNING WARNING WARNING WARNING\n",
            "\n",
            "Installed frontend version 1.14.6 is lower than the recommended version 1.16.9.\n",
            "\n",
            "Please install the updated requirements.txt file by running:\n",
            "/GUTRIS1/bin/python3 -m pip install -r /content/ComfyUI/requirements.txt\n",
            "\n",
            "This error is happening because the ComfyUI frontend is no longer shipped as part of the main repo but as a pip package instead.\n",
            "\n",
            "If you are on the portable package you can run: update\\update_comfyui.bat to solve this problem\n",
            "________________________________________________________________________\n",
            "[Prompt Server] web root: /GUTRIS1/lib/python3.10/site-packages/comfyui_frontend_package/static\n",
            "Successfully imported spandrel_extra_arches: support for non commercial upscale models.\n",
            "\n",
            "\u001b[92m[rgthree-comfy] Loaded 42 fantastic nodes. 🎉\u001b[00m\n",
            "\n",
            "\u001b[36;20m[/content/ComfyUI/custom_nodes/comfyui_controlnet_aux] | INFO -> Using ckpts path: /content/ComfyUI/custom_nodes/comfyui_controlnet_aux/ckpts\u001b[0m\n",
            "\u001b[36;20m[/content/ComfyUI/custom_nodes/comfyui_controlnet_aux] | INFO -> Using symlinks: False\u001b[0m\n",
            "\u001b[36;20m[/content/ComfyUI/custom_nodes/comfyui_controlnet_aux] | INFO -> Using ort providers: ['CUDAExecutionProvider', 'DirectMLExecutionProvider', 'OpenVINOExecutionProvider', 'ROCMExecutionProvider', 'CPUExecutionProvider', 'CoreMLExecutionProvider']\u001b[0m\n",
            "generated new fontManager\n",
            "DWPose: Onnxruntime with acceleration providers detected\n",
            "ComfyUI-GGUF: Partial torch compile only, consider updating pytorch\n",
            "### Loading: ComfyUI-Manager (V3.31.10)\n",
            "[ComfyUI-Manager] network_mode: public\n",
            "### ComfyUI Version: v0.3.29-15-g11b72c9c | Released on '2025-04-21'\n",
            "Making the \"web\\extensions\\FizzleDorf\" folder\n",
            "Update to javascripts files detected\n",
            "Copying Folder here to satisfy init, eventually I'll have stuff in here..txt to extensions folder\n",
            "NumExpr defaulting to 2 threads.\n",
            "[ComfyUI-Manager] default cache updated: https://raw.githubusercontent.com/ltdrdata/ComfyUI-Manager/main/model-list.json\n",
            "[ComfyUI-Manager] default cache updated: https://raw.githubusercontent.com/ltdrdata/ComfyUI-Manager/main/alter-list.json\n",
            "[ComfyUI-Manager] default cache updated: https://raw.githubusercontent.com/ltdrdata/ComfyUI-Manager/main/custom-node-list.json\n",
            "[ComfyUI-Manager] default cache updated: https://raw.githubusercontent.com/ltdrdata/ComfyUI-Manager/main/extension-node-map.json\n",
            "[ComfyUI-Manager] default cache updated: https://raw.githubusercontent.com/ltdrdata/ComfyUI-Manager/main/github-stats.json\n",
            "\u001b[34mFizzleDorf Custom Nodes: \u001b[92mLoaded\u001b[0m\n",
            "\u001b[34mWAS Node Suite: \u001b[0mCreated default conf file at `/content/ComfyUI/custom_nodes/was-node-suite-comfyui/was_suite_config.json`.\u001b[0m\n",
            "\u001b[34mWAS Node Suite: \u001b[0mBlenderNeko's Advanced CLIP Text Encode found, attempting to enable `CLIPTextEncode` support.\u001b[0m\n",
            "\u001b[34mWAS Node Suite: \u001b[0m`CLIPTextEncode (BlenderNeko Advanced + NSP)` node enabled under `WAS Suite/Conditioning` menu.\u001b[0m\n",
            "\u001b[34mWAS Node Suite: \u001b[0mOpenCV Python FFMPEG support is enabled\u001b[0m\n",
            "\u001b[34mWAS Node Suite \u001b[93mWarning: \u001b[0m`ffmpeg_bin_path` is not set in `/content/ComfyUI/custom_nodes/was-node-suite-comfyui/was_suite_config.json` config file. Will attempt to use system ffmpeg binaries if available.\u001b[0m\n",
            "\u001b[34mWAS Node Suite: \u001b[0mFinished.\u001b[0m \u001b[32mLoaded\u001b[0m \u001b[0m221\u001b[0m \u001b[32mnodes successfully.\u001b[0m\n",
            "\n",
            "\t\u001b[3m\u001b[93m\"Don't be afraid to give up the good to go for the great.\"\u001b[0m\u001b[3m - John D. Rockefeller\u001b[0m\n",
            "\n",
            "\u001b[36mEfficiency Nodes:\u001b[0m Attempting to add Control Net options to the 'HiRes-Fix Script' Node (comfyui_controlnet_aux add-on)...\u001b[92mSuccess!\u001b[0m\n",
            "\n",
            "Import times for custom nodes:\n",
            "   0.0 seconds: /content/ComfyUI/custom_nodes/websocket_image_save.py\n",
            "   0.0 seconds: /content/ComfyUI/custom_nodes/ComfyUI-Image-Selector\n",
            "   0.0 seconds: /content/ComfyUI/custom_nodes/SD-Latent-Upscaler\n",
            "   0.0 seconds: /content/ComfyUI/custom_nodes/ComfyUI_NestedNodeBuilder\n",
            "   0.0 seconds: /content/ComfyUI/custom_nodes/ComfyUI_ADV_CLIP_emb\n",
            "   0.0 seconds: /content/ComfyUI/custom_nodes/Comfy-WaveSpeed\n",
            "   0.0 seconds: /content/ComfyUI/custom_nodes/Derfuu_ComfyUI_ModdedNodes\n",
            "   0.0 seconds: /content/ComfyUI/custom_nodes/ComfyUI-GGUF\n",
            "   0.0 seconds: /content/ComfyUI/custom_nodes/ComfyUI-AutomaticCFG\n",
            "   0.0 seconds: /content/ComfyUI/custom_nodes/ComfyUI_UltimateSDUpscale\n",
            "   0.0 seconds: /content/ComfyUI/custom_nodes/ComfyUI-Custom-Scripts\n",
            "   0.0 seconds: /content/ComfyUI/custom_nodes/rgthree-comfy\n",
            "   0.1 seconds: /content/ComfyUI/custom_nodes/gguf\n",
            "   0.1 seconds: /content/ComfyUI/custom_nodes/ComfyUI-Advanced-ControlNet\n",
            "   0.1 seconds: /content/ComfyUI/custom_nodes/efficiency-nodes-comfyui\n",
            "   0.2 seconds: /content/ComfyUI/custom_nodes/ComfyUI-Manager\n",
            "   0.7 seconds: /content/ComfyUI/custom_nodes/ComfyUI_FizzNodes\n",
            "   1.5 seconds: /content/ComfyUI/custom_nodes/comfyui_controlnet_aux\n",
            "   2.1 seconds: /content/ComfyUI/custom_nodes/was-node-suite-comfyui\n",
            "\n",
            "********** ERROR ***********\n",
            "\n",
            "comfyui-workflow-templates is not installed.\n",
            "\n",
            "Please install the updated requirements.txt file by running:\n",
            "/GUTRIS1/bin/python3 -m pip install -r /content/ComfyUI/requirements.txt\n",
            "\n",
            "This error is happening because the ComfyUI frontend is no longer shipped as part of the main repo but as a pip package instead.\n",
            "\n",
            "If you are on the portable package you can run: update\\update_comfyui.bat to solve this problem\n",
            "\n",
            "********** ERROR ***********\n",
            "________________________________________________________________________\n",
            "WARNING WARNING WARNING WARNING WARNING\n",
            "\n",
            "Installed frontend version 1.14.6 is lower than the recommended version 1.16.9.\n",
            "\n",
            "Please install the updated requirements.txt file by running:\n",
            "/GUTRIS1/bin/python3 -m pip install -r /content/ComfyUI/requirements.txt\n",
            "\n",
            "This error is happening because the ComfyUI frontend is no longer shipped as part of the main repo but as a pip package instead.\n",
            "\n",
            "If you are on the portable package you can run: update\\update_comfyui.bat to solve this problem\n",
            "________________________________________________________________________\n",
            "FETCH ComfyRegistry Data: 5/82\n",
            "FETCH ComfyRegistry Data: 10/82\n",
            "\n",
            "🟢 Pinggy \u001b[38;5;208m:\u001b[0m https://rnyqe-34-125-187-131.a.free.pinggy.link\n",
            "\n",
            "🟢 Cloudflared \u001b[38;5;208m:\u001b[0m http://sharing-mention-raymond-occasions.trycloudflare.com \n",
            "\n",
            "FETCH ComfyRegistry Data: 15/82\n",
            "FETCH ComfyRegistry Data: 20/82\n",
            "FETCH ComfyRegistry Data: 25/82\n",
            "FETCH ComfyRegistry Data: 30/82\n",
            "FETCH ComfyRegistry Data: 35/82\n",
            "FETCH ComfyRegistry Data: 40/82\n",
            "FETCH ComfyRegistry Data: 45/82\n",
            "FETCH ComfyRegistry Data: 50/82\n",
            "FETCH ComfyRegistry Data: 55/82\n",
            "FETCH ComfyRegistry Data: 60/82\n",
            "FETCH ComfyRegistry Data: 65/82\n",
            "FETCH ComfyRegistry Data: 70/82\n",
            "FETCH ComfyRegistry Data: 75/82\n",
            "FETCH ComfyRegistry Data: 80/82\n",
            "FETCH ComfyRegistry Data [DONE]\n",
            "[ComfyUI-Manager] default cache updated: https://api.comfy.org/nodes\n",
            "FETCH DATA from: https://raw.githubusercontent.com/ltdrdata/ComfyUI-Manager/main/custom-node-list.json [DONE]\n",
            "[ComfyUI-Manager] All startup tasks have been completed.\n"
          ]
        }
      ]
    }
  ]
}